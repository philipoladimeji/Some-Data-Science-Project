{
 "cells": [
  {
   "cell_type": "code",
   "execution_count": 1,
   "metadata": {},
   "outputs": [
    {
     "name": "stdout",
     "output_type": "stream",
     "text": [
      "           MSISDN PACKAGE_NAME        State      Region  Minutes of Use  \\\n",
      "0      8181102573    Afri Care      ANAMBRA  SOUTH EAST             423   \n",
      "1      8183408284    Afri Care          IMO  SOUTH EAST             199   \n",
      "2      8093028255    Afri Care      ANAMBRA  SOUTH EAST             272   \n",
      "3      8182749526    Afri Care  CROSS RIVER  SOUTH EAST             199   \n",
      "4      8182072744    Afri Care          IMO  SOUTH EAST             213   \n",
      "5      8095733377    Afri Care      ANAMBRA  SOUTH EAST            3726   \n",
      "6      8095733377    Afri Care      ANAMBRA  SOUTH EAST            3726   \n",
      "7      8091940802    Afri Care      ANAMBRA  SOUTH EAST            6357   \n",
      "8      8095768303    Afri Care      ANAMBRA  SOUTH EAST             199   \n",
      "9      8182954934    Afri Care          IMO  SOUTH EAST             537   \n",
      "10     8091895581    Afri Care        ENUGU  SOUTH EAST             388   \n",
      "11     8091699621    Afri Care        ENUGU  SOUTH EAST            7818   \n",
      "12     8182846885    Afri Care        ENUGU  SOUTH EAST             199   \n",
      "13     8098727936    Afri Care      ANAMBRA  SOUTH EAST            2154   \n",
      "14     8096654608    Afri Care        ENUGU  SOUTH EAST             199   \n",
      "15     8095622919    Afri Care      ANAMBRA  SOUTH EAST            9330   \n",
      "16     8095622919    Afri Care      ANAMBRA  SOUTH EAST            9330   \n",
      "17     8095514838    Afri Care  CROSS RIVER  SOUTH EAST             747   \n",
      "18     8183173942    Afri Care        ENUGU  SOUTH EAST             199   \n",
      "19     8182525865    Afri Care        ENUGU  SOUTH EAST             211   \n",
      "20     8098633781    Afri Care      ANAMBRA  SOUTH EAST             199   \n",
      "21     8096126002    Afri Care      ANAMBRA  SOUTH EAST             301   \n",
      "22     8095010440    Afri Care        ENUGU  SOUTH EAST             199   \n",
      "23     8182549863    Afri Care      ANAMBRA  SOUTH EAST             218   \n",
      "24     8184788482    Afri Care      ANAMBRA  SOUTH EAST             199   \n",
      "25     8181404628    Afri Care          IMO  SOUTH EAST            4067   \n",
      "26     8183223153    Afri Care      ANAMBRA  SOUTH EAST             199   \n",
      "27     8090606524    Afri Care      ANAMBRA  SOUTH EAST             213   \n",
      "28     8181611247    Afri Care        ENUGU  SOUTH EAST             218   \n",
      "29     8181347634    Afri Care          IMO  SOUTH EAST             239   \n",
      "...           ...          ...          ...         ...             ...   \n",
      "57668  8091712494    Afri Love        ENUGU  SOUTH EAST             216   \n",
      "57669  8091885966    Afri Love          IMO  SOUTH EAST             218   \n",
      "57670  8091808043    Afri Love        ENUGU  SOUTH EAST             218   \n",
      "57671  8183816931    Afri Love      ANAMBRA  SOUTH EAST           17591   \n",
      "57672  8181005334    Afri Love          IMO  SOUTH EAST             200   \n",
      "57673  8099061838    Afri Love        ENUGU  SOUTH EAST             199   \n",
      "57674  8183469157    Afri Love        ENUGU  SOUTH EAST             538   \n",
      "57675  8183020680    Afri Love        ENUGU  SOUTH EAST             216   \n",
      "57676  8183347573    Afri Love      ANAMBRA  SOUTH EAST             464   \n",
      "57677  8097775854    Afri Love      ANAMBRA  SOUTH EAST             234   \n",
      "57678  8091455158    Afri Love      ANAMBRA  SOUTH EAST             199   \n",
      "57679  8182652605    Afri Love        ENUGU  SOUTH EAST            1343   \n",
      "57680  8183195456    Afri Love      ANAMBRA  SOUTH EAST             217   \n",
      "57681  8183747700    Afri Love      ANAMBRA  SOUTH EAST             746   \n",
      "57682  8181338188    Afri Love      ANAMBRA  SOUTH EAST             199   \n",
      "57683  8094225753    Afri Love      ANAMBRA  SOUTH EAST             199   \n",
      "57684  8181865592    Afri Love          IMO  SOUTH EAST             563   \n",
      "57685  8182935362    Afri Love          IMO  SOUTH EAST             199   \n",
      "57686  8091895283    Afri Love      ANAMBRA  SOUTH EAST             199   \n",
      "57687  8097882933    Afri Love      ANAMBRA  SOUTH EAST             199   \n",
      "57688  8184250702    Afri Love      ANAMBRA  SOUTH EAST             317   \n",
      "57689  8097361390    Afri Love      ANAMBRA  SOUTH EAST             199   \n",
      "57690  8098689469    Afri Love          IMO  SOUTH EAST            6013   \n",
      "57691  8182967844    Afri Love      ANAMBRA  SOUTH EAST             355   \n",
      "57692  8095343932    Afri Love        ENUGU  SOUTH EAST            3498   \n",
      "57693  8181862698    Afri Love          IMO  SOUTH EAST            5109   \n",
      "57694  8181621185    Afri Love      ANAMBRA  SOUTH EAST             199   \n",
      "57695  8182032285    Afri Love      ANAMBRA  SOUTH EAST            2238   \n",
      "57696  8181888582    Afri Love      ANAMBRA  SOUTH EAST             384   \n",
      "57697  8097362714    Afri Love      ANAMBRA  SOUTH EAST            4562   \n",
      "\n",
      "           ACTIVATION_DATE  January Revenue  February Revenue Value SEGMENT  \n",
      "0      2010-03-05 14:43:48          5170.25           4654.25        GOLDII  \n",
      "1      26/07/2010 21:52:49          1296.25            488.35        SILVER  \n",
      "2      15/06/2010 19:57:39          4622.75           5865.50        SILVER  \n",
      "3      2010-01-07 18:34:22          1565.50           1920.00        SILVER  \n",
      "4      29/04/2010 14:01:40          3273.80           2775.00        SILVER  \n",
      "5      21/07/2010 22:29:14          9392.75           2998.00        GOLDII  \n",
      "6      21/07/2010 22:29:14          9392.75           2998.00        GOLDII  \n",
      "7      2009-04-11 14:58:47          3372.15           2545.15        SILVER  \n",
      "8      13/05/2010 16:16:54          1386.50           1199.25        SILVER  \n",
      "9      28/06/2010 22:13:19          1597.00           1100.00        SILVER  \n",
      "10     17/10/2009 20:34:50          3874.80           1999.25        SILVER  \n",
      "11     2009-12-09 18:15:43          2075.50           2048.00        SILVER  \n",
      "12     19/08/2010 20:08:04          2454.25           1013.75        SILVER  \n",
      "13     20/11/2009 22:03:04          5902.75           2590.00        GOLDII  \n",
      "14     20/04/2009 16:57:25          3253.20           3478.50        SILVER  \n",
      "15     28/07/2010 22:09:22          5116.00           4892.75        GOLDII  \n",
      "16     28/07/2010 22:09:22          5116.00           4892.75        GOLDII  \n",
      "17     2010-11-06 20:54:48          2112.00           2787.00        SILVER  \n",
      "18     17/08/2010 20:53:15          1117.50           1347.00        SILVER  \n",
      "19     30/07/2010 22:46:04          1211.75            948.75        SILVER  \n",
      "20     13/04/2010 09:22:20          3575.75           3412.75        SILVER  \n",
      "21     27/06/2010 11:13:11          2706.15           4852.60        SILVER  \n",
      "22     2010-10-06 22:54:36           402.75            198.75      BRONZEII  \n",
      "23     2010-04-06 18:34:26          2465.00            772.00        SILVER  \n",
      "24     2010-10-08 12:20:51          1252.50            676.25        SILVER  \n",
      "25     2010-10-07 21:46:02          1787.30           1882.40        SILVER  \n",
      "26     2010-03-08 16:52:48             0.00            190.00      BRONZEII  \n",
      "27     31/05/2010 21:28:04           402.25            617.50      BRONZEII  \n",
      "28     2010-04-06 23:18:22          2166.00           1596.25        SILVER  \n",
      "29     2010-04-05 18:22:55          5540.40           4061.90        GOLDII  \n",
      "...                    ...              ...               ...           ...  \n",
      "57668  2009-05-08 11:51:16          1808.55           1918.75        SILVER  \n",
      "57669  2009-04-11 12:59:58          3580.25           2703.25        SILVER  \n",
      "57670  25/10/2009 10:22:02           904.00            430.25       BRONZEI  \n",
      "57671  2010-12-08 21:17:53          5129.25           3292.50        GOLDII  \n",
      "57672  20/05/2010 10:34:41          1831.15           1951.25        SILVER  \n",
      "57673  2010-07-07 15:14:55          2344.75           1853.25        SILVER  \n",
      "57674  18/08/2010 22:42:15           100.00            400.00      BRONZEII  \n",
      "57675  16/08/2010 22:25:51           339.90            400.00      BRONZEII  \n",
      "57676  2010-10-08 09:14:35           504.00            296.00       BRONZEI  \n",
      "57677  17/02/2009 17:28:10           871.50           1005.25       BRONZEI  \n",
      "57678  14/01/2010 09:08:27          5217.00           6095.50        GOLDII  \n",
      "57679  21/06/2010 22:28:19          6799.75           7689.50        GOLDII  \n",
      "57680  13/08/2010 21:36:27          2055.75           2085.75        SILVER  \n",
      "57681  17/08/2010 20:37:49          1734.75           1000.00        SILVER  \n",
      "57682  22/06/2010 21:53:14            31.00            869.00      BRONZEII  \n",
      "57683  2009-04-09 18:08:36          5374.15           5032.95        GOLDII  \n",
      "57684  19/05/2010 21:06:45          3290.50           3144.00        SILVER  \n",
      "57685  16/07/2010 22:18:32           674.50            903.75       BRONZEI  \n",
      "57686  23/12/2009 22:12:55          4272.25           1521.10        SILVER  \n",
      "57687  2009-12-09 13:25:12          4368.90           2987.70        SILVER  \n",
      "57688  23/08/2010 14:23:32          2052.00            255.50        SILVER  \n",
      "57689  2009-05-08 10:14:49          5942.90           3818.10        GOLDII  \n",
      "57690  20/11/2009 09:53:48         10568.20           9177.50         GOLDI  \n",
      "57691  18/06/2010 19:33:34           634.00            754.75       BRONZEI  \n",
      "57692  2010-01-05 19:27:18          3343.05           4049.25        SILVER  \n",
      "57693  2010-03-06 14:56:29          3276.50            506.75        SILVER  \n",
      "57694  26/07/2010 19:04:04          5411.75           3966.25        GOLDII  \n",
      "57695  23/04/2010 14:16:39          4993.20           6243.45        SILVER  \n",
      "57696  2010-05-06 20:19:51          1683.25           1196.50        SILVER  \n",
      "57697  2009-08-08 16:56:44          5788.50           6275.20        GOLDII  \n",
      "\n",
      "[57698 rows x 9 columns]\n"
     ]
    }
   ],
   "source": [
    "import pandas as pd\n",
    "import seaborn as sns\n",
    "%matplotlib inline\n",
    "\n",
    "df = pd.read_excel (r'Data Scientist Role.xlsx') #for an earlier version of Excel, you may need to use the file extension of 'xls'\n",
    "print (df)"
   ]
  },
  {
   "cell_type": "code",
   "execution_count": 2,
   "metadata": {},
   "outputs": [
    {
     "name": "stdout",
     "output_type": "stream",
     "text": [
      "<class 'pandas.core.frame.DataFrame'>\n",
      "RangeIndex: 57698 entries, 0 to 57697\n",
      "Data columns (total 9 columns):\n",
      "MSISDN              57698 non-null int64\n",
      "PACKAGE_NAME        57698 non-null object\n",
      "State               57698 non-null object\n",
      "Region              57698 non-null object\n",
      "Minutes of Use      57698 non-null int64\n",
      "ACTIVATION_DATE     57698 non-null object\n",
      "January Revenue     57698 non-null float64\n",
      "February Revenue    57479 non-null float64\n",
      "Value SEGMENT       57673 non-null object\n",
      "dtypes: float64(2), int64(2), object(5)\n",
      "memory usage: 4.0+ MB\n"
     ]
    }
   ],
   "source": [
    "df.info()"
   ]
  },
  {
   "cell_type": "code",
   "execution_count": 3,
   "metadata": {},
   "outputs": [
    {
     "data": {
      "text/plain": [
       "<matplotlib.axes._subplots.AxesSubplot at 0xe161470>"
      ]
     },
     "execution_count": 3,
     "metadata": {},
     "output_type": "execute_result"
    },
    {
     "data": {
      "image/png": "[encoded data removed]",
      "text/plain": [
       "<Figure size 432x288 with 2 Axes>"
      ]
     },
     "metadata": {
      "needs_background": "light"
     },
     "output_type": "display_data"
    }
   ],
   "source": [
    "sns.heatmap(df.corr())"
   ]
  },
  {
   "cell_type": "code",
   "execution_count": 4,
   "metadata": {
    "scrolled": true
   },
   "outputs": [
    {
     "data": {
      "text/html": [
       "<div>\n",
       "<style scoped>\n",
       "    .dataframe tbody tr th:only-of-type {\n",
       "        vertical-align: middle;\n",
       "    }\n",
       "\n",
       "    .dataframe tbody tr th {\n",
       "        vertical-align: top;\n",
       "    }\n",
       "\n",
       "    .dataframe thead th {\n",
       "        text-align: right;\n",
       "    }\n",
       "</style>\n",
       "<table border=\"1\" class=\"dataframe\">\n",
       "  <thead>\n",
       "    <tr style=\"text-align: right;\">\n",
       "      <th></th>\n",
       "      <th>MSISDN</th>\n",
       "      <th>Minutes of Use</th>\n",
       "      <th>January Revenue</th>\n",
       "      <th>February Revenue</th>\n",
       "    </tr>\n",
       "  </thead>\n",
       "  <tbody>\n",
       "    <tr>\n",
       "      <th>count</th>\n",
       "      <td>5.769800e+04</td>\n",
       "      <td>57698.000000</td>\n",
       "      <td>57698.000000</td>\n",
       "      <td>57479.000000</td>\n",
       "    </tr>\n",
       "    <tr>\n",
       "      <th>mean</th>\n",
       "      <td>8.137593e+09</td>\n",
       "      <td>955.413290</td>\n",
       "      <td>3121.916600</td>\n",
       "      <td>2677.236337</td>\n",
       "    </tr>\n",
       "    <tr>\n",
       "      <th>std</th>\n",
       "      <td>4.397025e+07</td>\n",
       "      <td>2456.726344</td>\n",
       "      <td>2851.918946</td>\n",
       "      <td>2702.548245</td>\n",
       "    </tr>\n",
       "    <tr>\n",
       "      <th>min</th>\n",
       "      <td>8.090501e+09</td>\n",
       "      <td>199.000000</td>\n",
       "      <td>0.000000</td>\n",
       "      <td>0.000000</td>\n",
       "    </tr>\n",
       "    <tr>\n",
       "      <th>25%</th>\n",
       "      <td>8.094991e+09</td>\n",
       "      <td>199.000000</td>\n",
       "      <td>1242.450000</td>\n",
       "      <td>840.750000</td>\n",
       "    </tr>\n",
       "    <tr>\n",
       "      <th>50%</th>\n",
       "      <td>8.099077e+09</td>\n",
       "      <td>233.000000</td>\n",
       "      <td>2400.000000</td>\n",
       "      <td>1919.000000</td>\n",
       "    </tr>\n",
       "    <tr>\n",
       "      <th>75%</th>\n",
       "      <td>8.182460e+09</td>\n",
       "      <td>566.000000</td>\n",
       "      <td>4146.125000</td>\n",
       "      <td>3642.000000</td>\n",
       "    </tr>\n",
       "    <tr>\n",
       "      <th>max</th>\n",
       "      <td>8.185389e+09</td>\n",
       "      <td>80901.000000</td>\n",
       "      <td>67607.600000</td>\n",
       "      <td>41835.700000</td>\n",
       "    </tr>\n",
       "  </tbody>\n",
       "</table>\n",
       "</div>"
      ],
      "text/plain": [
       "             MSISDN  Minutes of Use  January Revenue  February Revenue\n",
       "count  5.769800e+04    57698.000000     57698.000000      57479.000000\n",
       "mean   8.137593e+09      955.413290      3121.916600       2677.236337\n",
       "std    4.397025e+07     2456.726344      2851.918946       2702.548245\n",
       "min    8.090501e+09      199.000000         0.000000          0.000000\n",
       "25%    8.094991e+09      199.000000      1242.450000        840.750000\n",
       "50%    8.099077e+09      233.000000      2400.000000       1919.000000\n",
       "75%    8.182460e+09      566.000000      4146.125000       3642.000000\n",
       "max    8.185389e+09    80901.000000     67607.600000      41835.700000"
      ]
     },
     "execution_count": 4,
     "metadata": {},
     "output_type": "execute_result"
    }
   ],
   "source": [
    "df.describe()"
   ]
  },
  {
   "cell_type": "code",
   "execution_count": 5,
   "metadata": {},
   "outputs": [
    {
     "data": {
      "text/plain": [
       "PACKAGE_NAME  State      \n",
       "Afri Care     ANAMBRA        3228.468602\n",
       "              CROSS RIVER    3154.856908\n",
       "              EBONYI         2865.915714\n",
       "              ENUGU          2898.936822\n",
       "              IMO            3004.668450\n",
       "Afri Love     ANAMBRA        3261.398959\n",
       "              CROSS RIVER    3140.604761\n",
       "              EBONYI         2949.723025\n",
       "              ENUGU          2876.726156\n",
       "              IMO            3106.159825\n",
       "Name: January Revenue, dtype: float64"
      ]
     },
     "execution_count": 5,
     "metadata": {},
     "output_type": "execute_result"
    }
   ],
   "source": [
    "df.groupby(['PACKAGE_NAME','State'])['January Revenue'].mean()"
   ]
  },
  {
   "cell_type": "code",
   "execution_count": 6,
   "metadata": {},
   "outputs": [
    {
     "data": {
      "text/plain": [
       "PACKAGE_NAME  State      \n",
       "Afri Care     ANAMBRA        2804.457397\n",
       "              CROSS RIVER    2560.865501\n",
       "              EBONYI         2165.720253\n",
       "              ENUGU          2480.826250\n",
       "              IMO            2535.198269\n",
       "Afri Love     ANAMBRA        2839.444424\n",
       "              CROSS RIVER    2539.139975\n",
       "              EBONYI         2234.575466\n",
       "              ENUGU          2441.991539\n",
       "              IMO            2667.591579\n",
       "Name: February Revenue, dtype: float64"
      ]
     },
     "execution_count": 6,
     "metadata": {},
     "output_type": "execute_result"
    }
   ],
   "source": [
    "df.groupby(['PACKAGE_NAME','State'])['February Revenue'].mean()"
   ]
  },
  {
   "cell_type": "code",
   "execution_count": 7,
   "metadata": {},
   "outputs": [
    {
     "data": {
      "text/plain": [
       "PACKAGE_NAME  State    ACTIVATION_DATE    \n",
       "Afri Care     ANAMBRA  2008-01-12 09:36:15    9718.0\n",
       "                       2008-03-11 12:38:51     216.0\n",
       "                       2008-04-12 11:28:24    7930.0\n",
       "                       2008-04-12 15:24:18    1085.0\n",
       "                       2008-06-11 10:46:15    1027.0\n",
       "                       2008-09-11 13:38:12     869.0\n",
       "                       2008-10-11 19:05:06     414.0\n",
       "                       2008-10-11 19:55:42    6908.0\n",
       "                       2008-11-11 15:57:43     694.0\n",
       "                       2008-11-11 17:54:44     199.0\n",
       "                       2008-11-11 19:28:33     246.0\n",
       "                       2008-12-11 21:01:45     651.0\n",
       "                       2008-12-12 13:39:30     793.0\n",
       "                       2008-12-12 19:21:23     199.0\n",
       "                       2009-01-06 18:30:00    3101.0\n",
       "                       2009-01-08 07:35:21     199.0\n",
       "                       2009-01-08 08:09:25    2163.0\n",
       "                       2009-01-08 09:37:14     199.0\n",
       "                       2009-01-08 09:47:27    8000.0\n",
       "                       2009-01-08 13:08:10     302.0\n",
       "                       2009-01-08 15:29:06     199.0\n",
       "                       2009-01-08 16:08:21     199.0\n",
       "                       2009-01-08 16:59:48     199.0\n",
       "                       2009-01-09 07:20:50     333.0\n",
       "                       2009-01-09 07:25:06     199.0\n",
       "                       2009-01-09 09:40:57    3975.0\n",
       "                       2009-01-09 10:18:06     295.0\n",
       "                       2009-01-09 10:53:46     248.0\n",
       "                       2009-01-09 11:18:48     273.0\n",
       "                       2009-01-09 11:28:29     199.0\n",
       "                                               ...  \n",
       "Afri Love     IMO      31/05/2010 19:16:13     199.0\n",
       "                       31/05/2010 19:28:03     199.0\n",
       "                       31/05/2010 19:46:28     683.0\n",
       "                       31/05/2010 20:06:44    1727.0\n",
       "                       31/05/2010 20:28:29     218.0\n",
       "                       31/05/2010 20:29:08     203.0\n",
       "                       31/05/2010 20:47:18    1578.0\n",
       "                       31/05/2010 21:11:46     206.0\n",
       "                       31/05/2010 21:19:34     212.0\n",
       "                       31/05/2010 21:46:29     199.0\n",
       "                       31/05/2010 21:53:35     199.0\n",
       "                       31/05/2010 21:59:17     212.0\n",
       "                       31/05/2010 22:03:00    1421.0\n",
       "                       31/05/2010 22:25:05     554.0\n",
       "                       31/05/2010 22:25:16     217.0\n",
       "                       31/05/2010 23:00:33    1031.0\n",
       "                       31/07/2010 17:07:56     199.0\n",
       "                       31/07/2010 17:24:40     643.0\n",
       "                       31/07/2010 20:39:40     614.0\n",
       "                       31/08/2010 10:24:40    9586.0\n",
       "                       31/08/2010 18:11:57     674.0\n",
       "                       31/08/2010 20:31:09     265.0\n",
       "                       31/08/2010 21:05:41    9076.0\n",
       "                       31/08/2010 22:11:51     272.0\n",
       "                       31/08/2010 22:15:14     339.0\n",
       "                       31/08/2010 22:52:52     218.0\n",
       "                       31/10/2009 23:25:56     219.0\n",
       "                       31/12/2009 09:06:46     199.0\n",
       "                       31/12/2009 11:58:40     205.0\n",
       "                       31/12/2009 18:06:32    4227.0\n",
       "Name: Minutes of Use, Length: 50745, dtype: float64"
      ]
     },
     "execution_count": 7,
     "metadata": {},
     "output_type": "execute_result"
    }
   ],
   "source": [
    "df.groupby(['PACKAGE_NAME','State', 'ACTIVATION_DATE'])['Minutes of Use'].mean()"
   ]
  },
  {
   "cell_type": "code",
   "execution_count": 8,
   "metadata": {
    "scrolled": true
   },
   "outputs": [
    {
     "data": {
      "text/plain": [
       "<matplotlib.axes._subplots.AxesSubplot at 0xd5bfd68>"
      ]
     },
     "execution_count": 8,
     "metadata": {},
     "output_type": "execute_result"
    },
    {
     "data": {
      "image/png": "[encoded data removed]",
      "text/plain": [
       "<Figure size 432x288 with 1 Axes>"
      ]
     },
     "metadata": {
      "needs_background": "light"
     },
     "output_type": "display_data"
    }
   ],
   "source": [
    "#f,ax=plt.subplots(1,2,figsize=(28,18))\n",
    "sns.countplot('PACKAGE_NAME', data=df)"
   ]
  },
  {
   "cell_type": "code",
   "execution_count": null,
   "metadata": {},
   "outputs": [],
   "source": [
    "#f,ax=plt.subplots(1,2,figsize=(28,18))\n",
    "sns.countplot('Febuary Revenue', data=df)\n",
    "#ax.set_title('Iris Species Count')"
   ]
  },
  {
   "cell_type": "code",
   "execution_count": null,
   "metadata": {},
   "outputs": [],
   "source": [
    "sns.countplot('January Revenue', data=df)"
   ]
  },
  {
   "cell_type": "code",
   "execution_count": null,
   "metadata": {},
   "outputs": [],
   "source": [
    "#f,ax=plt.subplots(1,2,figsize=(18,8))\n",
    "df['January Revenue'].value_counts().plot.pie(explode=[0.1,0.1,0.1],autopct='%1.1f%%',shadow=True,figsize=(20,8))\n",
    "#iris['Species'].value_counts().plot.pie(explode=[0.1,0.1,0.1],autopct='%1.1f%%',ax=ax[0],shadow=True)\n",
    "#ax[0].set_title('Iris Species Count')\n",
    "#ax[0].set_ylabel('Count')\n",
    "#sns.countplot('Species',data=iris,ax=ax[1])\n",
    "#ax[1].set_title('Iris Species Count')"
   ]
  },
  {
   "cell_type": "code",
   "execution_count": null,
   "metadata": {},
   "outputs": [],
   "source": []
  }
 ],
 "metadata": {
  "kernelspec": {
   "display_name": "Python 3",
   "language": "python",
   "name": "python3"
  },
  "language_info": {
   "codemirror_mode": {
    "name": "ipython",
    "version": 3
   },
   "file_extension": ".py",
   "mimetype": "text/x-python",
   "name": "python",
   "nbconvert_exporter": "python",
   "pygments_lexer": "ipython3",
   "version": "3.6.5"
  }
 },
 "nbformat": 4,
 "nbformat_minor": 2
}
